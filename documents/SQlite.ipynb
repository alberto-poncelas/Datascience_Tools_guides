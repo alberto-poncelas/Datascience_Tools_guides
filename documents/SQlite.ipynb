{
 "cells": [
  {
   "cell_type": "markdown",
   "metadata": {},
   "source": [
    "# SQlite"
   ]
  },
  {
   "cell_type": "code",
   "execution_count": 13,
   "metadata": {},
   "outputs": [
    {
     "data": {
      "text/html": [
       "\n",
       "<style>\n",
       "\n",
       "div.text_cell_render h1 { /* Main titles bigger */\n",
       "font-size: 1.5em;\n",
       "}\n",
       "\n",
       "\n",
       "div.text_cell_render { /* Customize text cells */\n",
       "font-size:1.2em;\n",
       "}\n",
       "</style>\n"
      ],
      "text/plain": [
       "<IPython.core.display.HTML object>"
      ]
     },
     "execution_count": 13,
     "metadata": {},
     "output_type": "execute_result"
    }
   ],
   "source": [
    "from IPython.core.display import HTML\n",
    "HTML(\"\"\"\n",
    "<style>\n",
    "\n",
    "div.text_cell_render h1 { /* Main titles bigger */\n",
    "font-size: 1.5em;\n",
    "}\n",
    "\n",
    "\n",
    "div.text_cell_render { /* Customize text cells */\n",
    "font-size:1.2em;\n",
    "}\n",
    "</style>\n",
    "\"\"\")"
   ]
  },
  {
   "cell_type": "markdown",
   "metadata": {},
   "source": [
    "Introduction to SQLite"
   ]
  },
  {
   "cell_type": "markdown",
   "metadata": {},
   "source": [
    "```python\n",
    "import sqlite3\n",
    "database_name='database/vocab.db'\n",
    "```"
   ]
  },
  {
   "cell_type": "markdown",
   "metadata": {},
   "source": [
    "\n",
    "\n",
    "## Create Table\n",
    "```python\n",
    "try:\n",
    "    conn = sqlite3.connect(database_name, timeout=10)\n",
    "    conn.execute('CREATE TABLE IF NOT EXISTS table_name (id_field INTEGER PRIMARY KEY, text_field TEXT)')\n",
    "    conn.commit()\n",
    "    conn.close()\n",
    "except:\n",
    "    print(\"Error in query \" + query)\n",
    "    conn.rollback()\n",
    "```\n",
    "\n",
    "\n",
    "## Insert data\n",
    "\n",
    "\n",
    "```python\n",
    "tuple_list=[[1,name1],[2,name2]]\n",
    "try:\n",
    "    conn = sqlite3.connect(database_name, timeout=10)\n",
    "    conn.text_factory = lambda x: unicode(x, 'utf-8', 'ignore')\n",
    "    cur = conn.cursor()\n",
    "    for i in range(len(tuple_list)):\n",
    "        [id_field,text_field] = tuple_list[i]\n",
    "        cur.execute(\"INSERT INTO table_name (id_field,text_field) VALUES (?,?)\",(id_field,text_field) )\n",
    "    conn.commit()\n",
    "    conn.close()\n",
    "except:\n",
    "    print(\"Error loading VOCABULARY table\")\n",
    "    conn.rollback()\n",
    "\n",
    "```\n",
    "\n",
    "\n",
    "\n",
    "\n",
    "## Access data\n",
    "\n",
    "```python\n",
    "try:\n",
    "    conn = sqlite3.connect(database_name)\n",
    "    cur = conn.cursor()\n",
    "    cur.execute(\"SELECT * FROM table_name\")\n",
    "    rows = cur.fetchall();\n",
    "    conn.close()\n",
    "    return rows\n",
    "except:\n",
    "    conn.rollback()\n",
    "    return []\n",
    "```"
   ]
  },
  {
   "cell_type": "code",
   "execution_count": null,
   "metadata": {},
   "outputs": [],
   "source": []
  }
 ],
 "metadata": {
  "kernelspec": {
   "display_name": "Python 3",
   "language": "python",
   "name": "python3"
  },
  "language_info": {
   "codemirror_mode": {
    "name": "ipython",
    "version": 3
   },
   "file_extension": ".py",
   "mimetype": "text/x-python",
   "name": "python",
   "nbconvert_exporter": "python",
   "pygments_lexer": "ipython3",
   "version": "3.6.10"
  }
 },
 "nbformat": 4,
 "nbformat_minor": 4
}
