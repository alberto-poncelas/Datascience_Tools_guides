{
 "cells": [
  {
   "cell_type": "markdown",
   "metadata": {},
   "source": [
    "# Numpy"
   ]
  },
  {
   "cell_type": "markdown",
   "metadata": {},
   "source": [
    "Based on [this](https://www.dataquest.io/blog/numpy-cheat-sheet/)\n",
    "and [cheatsheet](https://s3.amazonaws.com/assets.datacamp.com/blog_assets/Numpy_Python_Cheat_Sheet.pdf)"
   ]
  },
  {
   "cell_type": "code",
   "execution_count": 2,
   "metadata": {},
   "outputs": [],
   "source": [
    "import numpy as np "
   ]
  },
  {
   "cell_type": "markdown",
   "metadata": {},
   "source": [
    "## Data Structures"
   ]
  },
  {
   "cell_type": "markdown",
   "metadata": {},
   "source": [
    "### Data Structures"
   ]
  },
  {
   "cell_type": "code",
   "execution_count": 8,
   "metadata": {},
   "outputs": [
    {
     "name": "stdout",
     "output_type": "stream",
     "text": [
      "Array:\n",
      "[1. 2. 3. 4. 5.]\n",
      "Matrix:\n",
      "[[1. 2.]\n",
      " [3. 4.]]\n"
     ]
    }
   ],
   "source": [
    "array = np.array([1,2,3,4,5],dtype=\"float\")\n",
    "matrix = np.array([[1, 2], [3, 4]],dtype=float)\n",
    "\n",
    "print(\"Array:\")\n",
    "print(array)\n",
    "print(\"Matrix:\")\n",
    "print(matrix)"
   ]
  },
  {
   "cell_type": "markdown",
   "metadata": {},
   "source": [
    "### Series"
   ]
  },
  {
   "cell_type": "code",
   "execution_count": 3,
   "metadata": {},
   "outputs": [
    {
     "name": "stdout",
     "output_type": "stream",
     "text": [
      "A serie from 0 to 10, every second number:\n",
      "[0 2 4 6 8]\n",
      "Five number from 0 to 100:\n",
      "[  0.  25.  50.  75. 100.]\n"
     ]
    }
   ],
   "source": [
    "print( \"A serie from 0 to 10, every second number:\" )\n",
    "print( np.arange(0,10,2)  )\n",
    "print( \"Five number from 0 to 100:\" )\n",
    "print( np.linspace(0,100,5) )"
   ]
  },
  {
   "cell_type": "markdown",
   "metadata": {},
   "source": [
    "## CRUD Operations"
   ]
  },
  {
   "cell_type": "markdown",
   "metadata": {},
   "source": [
    "### Create"
   ]
  },
  {
   "cell_type": "markdown",
   "metadata": {},
   "source": [
    "#### Initialize"
   ]
  },
  {
   "cell_type": "code",
   "execution_count": 4,
   "metadata": {},
   "outputs": [
    {
     "name": "stdout",
     "output_type": "stream",
     "text": [
      "Zero-initialized matrix:\n",
      "[[0. 0.]\n",
      " [0. 0.]]\n",
      "Ones-initialized matrix:\n",
      "[[1. 1.]\n",
      " [1. 1.]]\n",
      "Identity matrix:\n",
      "[[1. 0.]\n",
      " [0. 1.]]\n",
      "Matrix initialized with 99:\n",
      "[[99 99]\n",
      " [99 99]]\n",
      "Matrix initialized with random numbers from 0 to 100:\n",
      "[[63 12]\n",
      " [35 24]]\n"
     ]
    }
   ],
   "source": [
    "print( \"Zero-initialized matrix:\" )\n",
    "print( np.zeros((2,2)) )\n",
    "print( \"Ones-initialized matrix:\" )\n",
    "print( np.ones((2,2)) )\n",
    "print( \"Identity matrix:\" )\n",
    "print( np.eye(2) )\n",
    "print( \"Matrix initialized with 99:\" )\n",
    "print( np.full((2,2),99) )\n",
    "print( \"Matrix initialized with random numbers from 0 to 100:\" )\n",
    "print( np.random.randint(100,size=(2,2)) )"
   ]
  },
  {
   "cell_type": "markdown",
   "metadata": {},
   "source": [
    "### Read"
   ]
  },
  {
   "cell_type": "code",
   "execution_count": 5,
   "metadata": {},
   "outputs": [
    {
     "name": "stdout",
     "output_type": "stream",
     "text": [
      "Given the matrix:\n",
      "[[1. 2.]\n",
      " [3. 4.]]\n",
      "Access 0th row:\n",
      "[1. 2.]\n",
      "Element in row 0 and, column 1:\n",
      "2.0\n",
      "Element in row 0 and, column 1:\n",
      "2.0\n"
     ]
    }
   ],
   "source": [
    "print(\"Given the matrix:\")\n",
    "print(matrix)\n",
    "print(\"Access 0th row:\")\n",
    "print(matrix[0])\n",
    "print(\"Element in row 0 and, column 1:\")\n",
    "print(matrix[0][1])\n",
    "print(\"Element in row 0 and, column 1:\")\n",
    "print(matrix[0,1]) "
   ]
  },
  {
   "cell_type": "markdown",
   "metadata": {},
   "source": [
    "### Update"
   ]
  },
  {
   "cell_type": "code",
   "execution_count": 6,
   "metadata": {},
   "outputs": [
    {
     "name": "stdout",
     "output_type": "stream",
     "text": [
      "Given the matrix:\n",
      "[[1. 2.]\n",
      " [3. 4.]]\n",
      "Make a copy:\n",
      "[[1. 2.]\n",
      " [3. 4.]]\n",
      "Change the element [1][0] to 10:\n",
      "[[ 1.  2.]\n",
      " [10.  4.]]\n",
      "Change the first row to [0, 0]:\n",
      "[[ 0.  0.]\n",
      " [10.  4.]]\n",
      "The new matrix is different to the original:\n",
      "[[1. 2.]\n",
      " [3. 4.]]\n"
     ]
    }
   ],
   "source": [
    "print(\"Given the matrix:\")\n",
    "print(matrix)\n",
    "print(\"Make a copy:\")\n",
    "matrix_cpy = matrix.copy()\n",
    "print(matrix_cpy)\n",
    "\n",
    "print(\"Change the element [1][0] to 10:\")\n",
    "matrix_cpy[1,0]=10\n",
    "print(matrix_cpy)\n",
    "print(\"Change the first row to [0, 0]:\")\n",
    "matrix_cpy[0]=[0, 0]\n",
    "print(matrix_cpy)\n",
    "print(\"The new matrix is different to the original:\")\n",
    "print(matrix)"
   ]
  },
  {
   "cell_type": "markdown",
   "metadata": {},
   "source": [
    "### Delete"
   ]
  },
  {
   "cell_type": "code",
   "execution_count": 15,
   "metadata": {},
   "outputs": [
    {
     "name": "stdout",
     "output_type": "stream",
     "text": [
      "[1 2 3 4 5 6 7 8 9]\n",
      "Remove first element\n",
      "[2 3 4 5 6 7 8 9]\n",
      "The original array is not modified:\n",
      "[1 2 3 4 5 6 7 8 9]\n"
     ]
    }
   ],
   "source": [
    "A = np.array([1,2,3,4,5,6,7,8,9])\n",
    "print (A)\n",
    "print (\"Remove first element\")\n",
    "print (np.delete( A ,0) )\n",
    "print (\"The original array is not modified:\")\n",
    "print (A)"
   ]
  },
  {
   "cell_type": "code",
   "execution_count": 9,
   "metadata": {},
   "outputs": [
    {
     "name": "stdout",
     "output_type": "stream",
     "text": [
      "[[1 2 3]\n",
      " [4 5 6]\n",
      " [7 8 9]]\n",
      "Remove the first row: \n",
      "[[4 5 6]\n",
      " [7 8 9]]\n",
      "Remove the first column: \n",
      "[[2 3]\n",
      " [5 6]\n",
      " [8 9]]\n",
      "The original matrix is not modified:\n",
      "[[1 2 3]\n",
      " [4 5 6]\n",
      " [7 8 9]]\n"
     ]
    }
   ],
   "source": [
    "M = np.array([1,2,3,4,5,6,7,8,9]).reshape(3,3)\n",
    "print(M)\n",
    "print(\"Remove the first row: \")\n",
    "print( np.delete(M,0,axis=0) )\n",
    "print(\"Remove the first column: \")\n",
    "print( np.delete(M,0,axis=1) )\n",
    "print (\"The original matrix is not modified:\")\n",
    "print( M )"
   ]
  },
  {
   "cell_type": "markdown",
   "metadata": {},
   "source": [
    "## Block operations"
   ]
  },
  {
   "cell_type": "markdown",
   "metadata": {},
   "source": [
    "### Subsets"
   ]
  },
  {
   "cell_type": "code",
   "execution_count": 23,
   "metadata": {},
   "outputs": [
    {
     "name": "stdout",
     "output_type": "stream",
     "text": [
      "[1 2 3 4 5 6 7 8 9]\n",
      "Filter elements that are above 5\n",
      "[6 7 8 9]\n",
      "Alternatively, use array of boolean as index\n",
      "[False False False False False  True  True  True  True]\n",
      "[6 7 8 9]\n"
     ]
    }
   ],
   "source": [
    "print(A)\n",
    "print(\"Filter elements that are above 5\")\n",
    "print(A[np.where(A > 5)])\n",
    "\n",
    "print(\"Alternatively, use array of boolean as index:\")\n",
    "is_above_5 = A > 5\n",
    "print(is_above_5)\n",
    "print(A[is_above_5])"
   ]
  },
  {
   "cell_type": "code",
   "execution_count": 14,
   "metadata": {},
   "outputs": [
    {
     "name": "stdout",
     "output_type": "stream",
     "text": [
      "[['Product 1' 'default' '10']\n",
      " ['Product 2' 'default' '20']\n",
      " ['Product 3' 'sale' '30']]\n",
      "Filter rows with second column as 'default' \n",
      "[['Product 1' 'default' '10']\n",
      " ['Product 2' 'default' '20']]\n",
      "Filter rows with second column as 'default' and third equals 10\n",
      "[['Product 1' 'default' '10']]\n"
     ]
    }
   ],
   "source": [
    "P = np.array([[\"Product 1\", \"default\", 10],[\"Product 2\", \"default\", 20],[\"Product 3\", \"sale\", 30] ])\n",
    "print(P)\n",
    "print(\"Filter rows with second column as 'default' \")\n",
    "print(P[P[:,1]==\"default\", :])\n",
    "print(\"Filter rows with second column as 'default' and third equals 10\")\n",
    "print(P[(P[:,1]==\"default\" ) & ( P[:,2]==\"10\"),:])\n"
   ]
  },
  {
   "cell_type": "markdown",
   "metadata": {},
   "source": [
    "### Aggregates"
   ]
  },
  {
   "cell_type": "code",
   "execution_count": 11,
   "metadata": {},
   "outputs": [
    {
     "name": "stdout",
     "output_type": "stream",
     "text": [
      "[[1 2 3]\n",
      " [4 5 6]\n",
      " [7 8 9]]\n",
      "Aggregate functions:\n",
      "Sum by column:\n",
      "[12 15 18]\n"
     ]
    }
   ],
   "source": [
    "print (M)\n",
    "print(\"Aggregate functions:\")\n",
    "np.min(M), np.max(M), np.sum(M), np.average(M)\n",
    "print(\"Sum by column:\")\n",
    "print(np.sum(M,axis=0))"
   ]
  },
  {
   "cell_type": "markdown",
   "metadata": {},
   "source": [
    "## Math operations"
   ]
  },
  {
   "cell_type": "markdown",
   "metadata": {},
   "source": [
    "### Element-wise"
   ]
  },
  {
   "cell_type": "code",
   "execution_count": 6,
   "metadata": {},
   "outputs": [
    {
     "name": "stdout",
     "output_type": "stream",
     "text": [
      "Element-wise addition:\n",
      "[[10 10 10]\n",
      " [10 10 10]\n",
      " [10 10 10]]\n",
      "Element-wise subtraction:\n",
      "[[-8 -6 -4]\n",
      " [-2  0  2]\n",
      " [ 4  6  8]]\n",
      "Element-wise multiplication:\n",
      "[[ 9 16 21]\n",
      " [24 25 24]\n",
      " [21 16  9]]\n",
      "Element-wise division:\n",
      "[[0.11111111 0.25       0.42857143]\n",
      " [0.66666667 1.         1.5       ]\n",
      " [2.33333333 4.         9.        ]]\n"
     ]
    }
   ],
   "source": [
    "M1 = np.array([1,2,3,4,5,6,7,8,9]).reshape(3,3)\n",
    "M2 = np.array([9,8,7,6,5,4,3,2,1]).reshape(3,3)\n",
    "\n",
    "print(\"Element-wise addition:\")\n",
    "print( np.add(M1,M2) )\n",
    "print(\"Element-wise subtraction:\")\n",
    "print( np.subtract(M1,M2) )\n",
    "print(\"Element-wise multiplication:\")\n",
    "print( np.multiply(M1,M2) )\n",
    "print(\"Element-wise division:\")\n",
    "print( np.divide(M1,M2) )"
   ]
  },
  {
   "cell_type": "markdown",
   "metadata": {},
   "source": [
    "### Matrix operations"
   ]
  },
  {
   "cell_type": "code",
   "execution_count": 7,
   "metadata": {},
   "outputs": [
    {
     "name": "stdout",
     "output_type": "stream",
     "text": [
      "Matrix multiplication:\n",
      "[[ 30  24  18]\n",
      " [ 84  69  54]\n",
      " [138 114  90]]\n"
     ]
    }
   ],
   "source": [
    "print(\"Matrix multiplication:\")\n",
    "print(M1.dot(M2))"
   ]
  },
  {
   "cell_type": "code",
   "execution_count": null,
   "metadata": {},
   "outputs": [],
   "source": []
  }
 ],
 "metadata": {
  "kernelspec": {
   "display_name": "Python 3",
   "language": "python",
   "name": "python3"
  },
  "language_info": {
   "codemirror_mode": {
    "name": "ipython",
    "version": 3
   },
   "file_extension": ".py",
   "mimetype": "text/x-python",
   "name": "python",
   "nbconvert_exporter": "python",
   "pygments_lexer": "ipython3",
   "version": "3.6.10"
  }
 },
 "nbformat": 4,
 "nbformat_minor": 4
}
