{
 "cells": [
  {
   "cell_type": "markdown",
   "metadata": {},
   "source": [
    "# Spacy\n",
    "\n",
    "## Index\n",
    "* [Word information](#word_information)\n",
    "* [Tokenize](#tokenize)\n",
    "* [POS Tag](#POS_tag)\n",
    "* [Sentence/Word vectors](#vectors)\n",
    "* Name Entity Recognizer\n",
    "* Sentence parse"
   ]
  },
  {
   "cell_type": "code",
   "execution_count": 1,
   "metadata": {},
   "outputs": [],
   "source": [
    "import spacy\n",
    "nlp = spacy.load(\"en_core_web_md\")\n",
    "#nlp = spacy.load(\"en_core_web_md\")"
   ]
  },
  {
   "cell_type": "markdown",
   "metadata": {},
   "source": [
    "Use `python -m spacy download en_core_web_md` to install `en_core_web_md` package"
   ]
  },
  {
   "cell_type": "code",
   "execution_count": 2,
   "metadata": {},
   "outputs": [],
   "source": [
    "sentence = nlp(\"This is one sentence.\")\n",
    "word=sentence[3]"
   ]
  },
  {
   "cell_type": "markdown",
   "metadata": {},
   "source": [
    "<a id='word_information'></a>\n",
    "## Word information"
   ]
  },
  {
   "cell_type": "code",
   "execution_count": 5,
   "metadata": {},
   "outputs": [
    {
     "name": "stdout",
     "output_type": "stream",
     "text": [
      "False\n",
      "True\n",
      "False\n",
      "sentence\n"
     ]
    }
   ],
   "source": [
    "print(word.is_oov)\n",
    "print(word.is_alpha)\n",
    "print(word.is_stop)\n",
    "print(word.lemma_)"
   ]
  },
  {
   "cell_type": "markdown",
   "metadata": {},
   "source": [
    "<a id='tokenize'></a>\n",
    "## Tokenize"
   ]
  },
  {
   "cell_type": "code",
   "execution_count": 6,
   "metadata": {},
   "outputs": [],
   "source": [
    "tokenized=[x.text for x in sentence]\n",
    "print(tokenized)"
   ]
  },
  {
   "cell_type": "markdown",
   "metadata": {},
   "source": [
    "<a id='POS_tag'></a>\n",
    "## POS tag"
   ]
  },
  {
   "cell_type": "code",
   "execution_count": 7,
   "metadata": {},
   "outputs": [
    {
     "name": "stdout",
     "output_type": "stream",
     "text": [
      "['DET', 'AUX', 'NUM', 'NOUN', 'PUNCT']\n"
     ]
    }
   ],
   "source": [
    "POStag=[x.pos_ for x in sentence]\n",
    "POStag_tag=[x.tag_ for x in sentence]\n",
    "print(POStag)"
   ]
  },
  {
   "cell_type": "markdown",
   "metadata": {},
   "source": [
    "<a id='vectors'></a>\n",
    "## Sentence/Word vectors"
   ]
  },
  {
   "cell_type": "code",
   "execution_count": 10,
   "metadata": {},
   "outputs": [
    {
     "name": "stdout",
     "output_type": "stream",
     "text": [
      "[-0.0673188   0.28502998 -0.12204794 -0.0782048   0.09875339]\n"
     ]
    }
   ],
   "source": [
    "sentence_vector=sentence.vector\n",
    "print(sentence_vector[0:5])"
   ]
  },
  {
   "cell_type": "code",
   "execution_count": 11,
   "metadata": {},
   "outputs": [
    {
     "name": "stdout",
     "output_type": "stream",
     "text": [
      "[-0.23011   0.24952  -0.40514   0.10115  -0.083443 -0.13674   0.1143\n",
      "  0.026823  0.19863   2.456   ]\n",
      "0.5990684828833484\n"
     ]
    }
   ],
   "source": [
    "if word.has_vector:\n",
    "    word_vector=word.vector\n",
    "    print(word_vector[0:10])\n",
    "\n",
    "print(word.similarity(nlp(\"phrase\")))"
   ]
  },
  {
   "cell_type": "markdown",
   "metadata": {},
   "source": [
    "## Name Entity Recognizer"
   ]
  },
  {
   "cell_type": "markdown",
   "metadata": {},
   "source": [
    "## Sentence parse"
   ]
  },
  {
   "cell_type": "code",
   "execution_count": null,
   "metadata": {},
   "outputs": [],
   "source": []
  }
 ],
 "metadata": {
  "kernelspec": {
   "display_name": "Python 3",
   "language": "python",
   "name": "python3"
  },
  "language_info": {
   "codemirror_mode": {
    "name": "ipython",
    "version": 3
   },
   "file_extension": ".py",
   "mimetype": "text/x-python",
   "name": "python",
   "nbconvert_exporter": "python",
   "pygments_lexer": "ipython3",
   "version": "3.6.10"
  }
 },
 "nbformat": 4,
 "nbformat_minor": 4
}
